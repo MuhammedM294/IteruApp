{
 "cells": [
  {
   "cell_type": "code",
   "execution_count": 91,
   "id": "8938d731",
   "metadata": {},
   "outputs": [],
   "source": [
    "dates_dict = {'2020-07-09': 1594265117000,\n",
    " '2020-07-21': 1595301918000,\n",
    " '2020-08-02': 1596338718000,\n",
    " '2020-08-14': 1597375519000,\n",
    " '2020-08-26': 1598412320000,\n",
    " '2020-09-07': 1599449120000,\n",
    " '2020-09-19': 1600485921000,\n",
    " '2020-10-01': 1601522721000,\n",
    " '2020-10-13': 1602559521000,\n",
    " '2020-10-25': 1603596321000,\n",
    " '2020-11-06': 1604633121000,\n",
    " '2020-11-18': 1605669921000,\n",
    " '2020-11-30': 1606706720000,\n",
    " '2020-12-12': 1607743520000,\n",
    " '2021-01-05': 1609817119000,\n",
    " '2021-01-17': 1610853918000,\n",
    " '2021-01-29': 1611890718000,\n",
    " '2021-02-10': 1612927518000,\n",
    " '2021-02-22': 1613964317000,\n",
    " '2021-03-06': 1615001117000,\n",
    " '2021-03-18': 1616037917000,\n",
    " '2021-03-30': 1617074717000,\n",
    " '2021-04-11': 1618111518000,\n",
    " '2021-04-23': 1619148318000,\n",
    " '2021-05-05': 1620185119000,\n",
    " '2021-05-17': 1621221919000,\n",
    " '2021-05-29': 1622258720000,\n",
    " '2021-06-10': 1623295521000,\n",
    " '2021-06-22': 1624332322000,\n",
    " '2021-07-04': 1625369122000,\n",
    " '2021-07-16': 1626405923000,\n",
    " '2021-07-28': 1627442724000,\n",
    " '2021-08-09': 1628479525000,\n",
    " '2021-08-21': 1629516325000,\n",
    " '2021-09-02': 1630553126000,\n",
    " '2021-09-14': 1631589926000,\n",
    " '2021-09-26': 1632626727000,\n",
    " '2021-10-08': 1633663527000,\n",
    " '2021-10-20': 1634700327000,\n",
    " '2021-11-01': 1635737127000,\n",
    " '2021-11-13': 1636773927000,\n",
    " '2021-11-25': 1637810726000,\n",
    " '2021-12-07': 1638847526000,\n",
    " '2021-12-19': 1639884325000,\n",
    " '2021-12-31': 1640921125000,\n",
    " '2022-01-12': 1641957924000,\n",
    " '2022-01-24': 1642994724000,\n",
    " '2022-02-05': 1644031523000,\n",
    " '2022-03-01': 1646105123000,\n",
    " '2022-03-13': 1647141923000,\n",
    " '2022-03-25': 1648178723000,\n",
    " '2022-04-06': 1649215523000,\n",
    " '2022-04-18': 1650252324000,\n",
    " '2022-04-30': 1651289124000,}"
   ]
  },
  {
   "cell_type": "code",
   "execution_count": 92,
   "id": "5b0bf366",
   "metadata": {},
   "outputs": [],
   "source": [
    "dates = list(dates_dict.keys())"
   ]
  },
  {
   "cell_type": "code",
   "execution_count": 93,
   "id": "cb678209",
   "metadata": {},
   "outputs": [],
   "source": [
    "years = [dates[i].split('-')[0] for i in range(len(dates))]"
   ]
  },
  {
   "cell_type": "code",
   "execution_count": 94,
   "id": "cc6166d4",
   "metadata": {},
   "outputs": [
    {
     "data": {
      "text/plain": [
       "3"
      ]
     },
     "execution_count": 94,
     "metadata": {},
     "output_type": "execute_result"
    }
   ],
   "source": [
    "len(set(years))"
   ]
  },
  {
   "cell_type": "code",
   "execution_count": 95,
   "id": "51cc0790",
   "metadata": {},
   "outputs": [],
   "source": [
    "year_ava=[]"
   ]
  },
  {
   "cell_type": "code",
   "execution_count": 96,
   "id": "417e4efa",
   "metadata": {},
   "outputs": [],
   "source": [
    "for i in range(len(set(years))):\n",
    "    year_ava.append(i+2020)"
   ]
  },
  {
   "cell_type": "code",
   "execution_count": 97,
   "id": "fe4b4f7d",
   "metadata": {},
   "outputs": [
    {
     "data": {
      "text/plain": [
       "[2020, 2021, 2022]"
      ]
     },
     "execution_count": 97,
     "metadata": {},
     "output_type": "execute_result"
    }
   ],
   "source": [
    "year_ava"
   ]
  },
  {
   "cell_type": "code",
   "execution_count": 98,
   "id": "5f7ccc21",
   "metadata": {},
   "outputs": [],
   "source": [
    "for date, year in zip(dates,year_ava):\n",
    "    if date.split('-')[0] == '2020':\n",
    "        year_2020.append(date)\n",
    "    elif date.split('-')[0] == '2021':\n",
    "        year_2021.append(date)\n",
    "    elif date.split('-')[0] == '2022':\n",
    "        year_2022.append(date)\n",
    "        \n",
    "        \n",
    "        "
   ]
  },
  {
   "cell_type": "code",
   "execution_count": 101,
   "id": "8b42d03f",
   "metadata": {},
   "outputs": [],
   "source": [
    "x = 546.0066626"
   ]
  },
  {
   "cell_type": "code",
   "execution_count": 103,
   "id": "b5f4cec6",
   "metadata": {},
   "outputs": [
    {
     "data": {
      "text/plain": [
       "546.007"
      ]
     },
     "execution_count": 103,
     "metadata": {},
     "output_type": "execute_result"
    }
   ],
   "source": [
    "round(x,3)"
   ]
  },
  {
   "cell_type": "code",
   "execution_count": null,
   "id": "6264ffd7",
   "metadata": {},
   "outputs": [],
   "source": []
  }
 ],
 "metadata": {
  "hide_input": false,
  "kernelspec": {
   "display_name": "Python 3 (ipykernel)",
   "language": "python",
   "name": "python3"
  },
  "language_info": {
   "codemirror_mode": {
    "name": "ipython",
    "version": 3
   },
   "file_extension": ".py",
   "mimetype": "text/x-python",
   "name": "python",
   "nbconvert_exporter": "python",
   "pygments_lexer": "ipython3",
   "version": "3.9.7"
  },
  "toc": {
   "base_numbering": 1,
   "nav_menu": {},
   "number_sections": true,
   "sideBar": true,
   "skip_h1_title": false,
   "title_cell": "Table of Contents",
   "title_sidebar": "Contents",
   "toc_cell": false,
   "toc_position": {},
   "toc_section_display": true,
   "toc_window_display": false
  }
 },
 "nbformat": 4,
 "nbformat_minor": 5
}
